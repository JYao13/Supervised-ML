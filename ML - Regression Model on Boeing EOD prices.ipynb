{
 "cells": [
  {
   "cell_type": "markdown",
   "metadata": {},
   "source": [
    "# Setting up Model"
   ]
  },
  {
   "cell_type": "code",
   "execution_count": 1,
   "metadata": {},
   "outputs": [
    {
     "name": "stderr",
     "output_type": "stream",
     "text": [
      "C:\\Users\\jymas\\Anaconda3\\lib\\site-packages\\sklearn\\cross_validation.py:41: DeprecationWarning: This module was deprecated in version 0.18 in favor of the model_selection module into which all the refactored classes and functions are moved. Also note that the interface of the new CV iterators are different from that of this module. This module will be removed in 0.20.\n",
      "  \"This module will be removed in 0.20.\", DeprecationWarning)\n"
     ]
    }
   ],
   "source": [
    "import pandas as pd\n",
    "import matplotlib.pyplot as plt\n",
    "from matplotlib import style\n",
    "\n",
    "style.use('ggplot')\n",
    "\n",
    "import numpy as np\n",
    "import sys\n",
    "import quandl\n",
    "import math\n",
    "from sklearn import preprocessing, cross_validation, svm\n",
    "from sklearn.linear_model import LinearRegression\n",
    "\n",
    "import requests\n",
    "import datetime\n",
    "from datetime import datetime\n",
    "import time\n",
    "import pickle"
   ]
  },
  {
   "cell_type": "code",
   "execution_count": 2,
   "metadata": {
    "scrolled": true
   },
   "outputs": [],
   "source": [
    "# quandl api - for Boeing EOD prices\n",
    "\n",
    "qapi = 'https://www.quandl.com/api/v3/datasets/EOD/BA.json?api_key=AZ-XuMzaXBSCHuiyHusT'\n",
    "\n",
    "# requesting from api\n",
    "\n",
    "req = requests.get(qapi)\n",
    "json_data = req.json()"
   ]
  },
  {
   "cell_type": "markdown",
   "metadata": {},
   "source": [
    "# Using Quandl get"
   ]
  },
  {
   "cell_type": "code",
   "execution_count": 2,
   "metadata": {},
   "outputs": [],
   "source": [
    "# raw dataframe from json data pulled\n",
    "\n",
    "df_raw = quandl.get('EOD/BA',  authtoken='AZ-XuMzaXBSCHuiyHusT')"
   ]
  },
  {
   "cell_type": "code",
   "execution_count": 3,
   "metadata": {},
   "outputs": [
    {
     "name": "stderr",
     "output_type": "stream",
     "text": [
      "C:\\Users\\jymas\\Anaconda3\\lib\\site-packages\\pandas\\core\\frame.py:3790: SettingWithCopyWarning: \n",
      "A value is trying to be set on a copy of a slice from a DataFrame\n",
      "\n",
      "See the caveats in the documentation: http://pandas.pydata.org/pandas-docs/stable/indexing.html#indexing-view-versus-copy\n",
      "  downcast=downcast, **kwargs)\n",
      "C:\\Users\\jymas\\Anaconda3\\lib\\site-packages\\ipykernel_launcher.py:15: SettingWithCopyWarning: \n",
      "A value is trying to be set on a copy of a slice from a DataFrame.\n",
      "Try using .loc[row_indexer,col_indexer] = value instead\n",
      "\n",
      "See the caveats in the documentation: http://pandas.pydata.org/pandas-docs/stable/indexing.html#indexing-view-versus-copy\n",
      "  from ipykernel import kernelapp as app\n"
     ]
    }
   ],
   "source": [
    "# refining dataframe - we only want to look at these columns\n",
    "\n",
    "df_raw = df_raw[['Adj_Open', 'Adj_High', 'Adj_Low', 'Adj_Close', 'Adj_Volume']]\n",
    "\n",
    "# additional columns\n",
    "\n",
    "df_raw['HL_%'] = (df_raw['Adj_High'] - df_raw['Adj_Low'])/(df_raw['Adj_Low']) * 100 # % range of high-low intra-day prices\n",
    "df_raw['% change'] = (df_raw['Adj_Close'] - df_raw['Adj_Open'])/(df_raw['Adj_Open']) * 100 # % increase in daily price\n",
    "\n",
    "# filtering to create new df\n",
    "\n",
    "df = df_raw[['Adj_Close', 'HL_%', '% change', 'Adj_Volume']]\n",
    "\n",
    "df.fillna(value=-99999,inplace=True) # we don't want empty data\n",
    "\n",
    "# forecast column created\n",
    "\n",
    "forecast_col = 'Adj_Close'\n",
    "forecast_out = int(math.ceil(0.002*len(df))) # predict 0.2% of the dataframe (for Boeing, ~29 days)\n",
    "df['label'] = df[forecast_col].shift(-forecast_out)"
   ]
  },
  {
   "cell_type": "code",
   "execution_count": 5,
   "metadata": {},
   "outputs": [
    {
     "name": "stderr",
     "output_type": "stream",
     "text": [
      "C:\\Users\\jymas\\Anaconda3\\lib\\site-packages\\ipykernel_launcher.py:12: SettingWithCopyWarning: \n",
      "A value is trying to be set on a copy of a slice from a DataFrame\n",
      "\n",
      "See the caveats in the documentation: http://pandas.pydata.org/pandas-docs/stable/indexing.html#indexing-view-versus-copy\n",
      "  if sys.path[0] == '':\n"
     ]
    }
   ],
   "source": [
    "# creating X, y data for training\n",
    "\n",
    "X = np.array(df.drop(columns=['label'])) # we want the machine to consider all data except the labels (that we will predict)\n",
    "\n",
    "X = preprocessing.scale(X)\n",
    "# scale new values alongside existing values - helps with training and testing,adds to processing time\n",
    "# basically centers the entire dataset to the mean\n",
    "    \n",
    "X_lately = X[-forecast_out:] # last '29' days of X\n",
    "X = X[:-forecast_out] # excludes recent '29' days of X\n",
    "\n",
    "df.dropna(inplace=True)\n",
    "\n",
    "y = np.array(df['label'])\n",
    "\n",
    "# creating training data\n",
    "\n",
    "X_train, X_test, y_train, y_test = cross_validation.train_test_split(X, y, test_size=0.2) # 20% of data\n",
    "\n",
    "# take our features and labels, shuffle, keeping x,y connected\n",
    "\n",
    "# by defining the test size to be 0.2, this randomly defines 20% of our data (20% of features with associated labels)\n",
    "# as testing data, and the remaining 80% as training data\n",
    "\n",
    "# by doing so, we train our machine algorithm on 80% of the data, make a prediction for the remaining 20%\n",
    "# then compare this to the original 20& we designated as testing data - this will give an accuracy test"
   ]
  },
  {
   "cell_type": "code",
   "execution_count": 6,
   "metadata": {
    "scrolled": true
   },
   "outputs": [
    {
     "name": "stdout",
     "output_type": "stream",
     "text": [
      "Length of training data - 11528 and testing - 2882 equals dataframe length - 14410\n",
      "True\n"
     ]
    }
   ],
   "source": [
    "print('Length of training data - ' + str(len(y_train)) + ' and testing - ' + str(len(y_test)) + ' equals dataframe length - ' + str(len(df)))\n",
    "print(str((len(y_train) + len(y_test)) == len(df)))"
   ]
  },
  {
   "cell_type": "markdown",
   "metadata": {},
   "source": [
    "### Creating Training Method"
   ]
  },
  {
   "cell_type": "code",
   "execution_count": 7,
   "metadata": {},
   "outputs": [],
   "source": [
    "# using Linear Regression algorithm from sklearn\n",
    "\n",
    "clf = LinearRegression(n_jobs=-1) # as many jobs as possible (-1)\n",
    "clf.fit(X_train, y_train) # training on x and y training values\n",
    "\n",
    "with open('linearregression.pickle', 'wb') as f:\n",
    "    pickle.dump(clf, f) # saving training method"
   ]
  },
  {
   "cell_type": "markdown",
   "metadata": {},
   "source": [
    "### Defining Training Method"
   ]
  },
  {
   "cell_type": "code",
   "execution_count": 8,
   "metadata": {},
   "outputs": [
    {
     "name": "stdout",
     "output_type": "stream",
     "text": [
      "29 days ahead with R^2 of 0.9879297411018781\n"
     ]
    }
   ],
   "source": [
    "# calling the trained clf\n",
    "\n",
    "pickle_in = open('linearregression.pickle', 'rb') # call the file\n",
    "clf = pickle.load(pickle_in) # loading the pickled method from above file, assign to clf variable\n",
    "\n",
    "\n",
    "accuracy = clf.score(X_test, y_test)\n",
    "\n",
    "# testing the data - score takes X_test with expected y_test values\n",
    "# predictions for X_test are made with clf (trained with Lin regression), then compared with expected y_test\n",
    "\n",
    "# how accurate is this forecast tool\n",
    "\n",
    "print(str(forecast_out) + ' days ahead with R^2 of ' + str(accuracy))"
   ]
  },
  {
   "cell_type": "code",
   "execution_count": 10,
   "metadata": {
    "scrolled": true
   },
   "outputs": [
    {
     "name": "stderr",
     "output_type": "stream",
     "text": [
      "C:\\Users\\jymas\\Anaconda3\\lib\\site-packages\\ipykernel_launcher.py:3: SettingWithCopyWarning: \n",
      "A value is trying to be set on a copy of a slice from a DataFrame.\n",
      "Try using .loc[row_indexer,col_indexer] = value instead\n",
      "\n",
      "See the caveats in the documentation: http://pandas.pydata.org/pandas-docs/stable/indexing.html#indexing-view-versus-copy\n",
      "  This is separate from the ipykernel package so we can avoid doing imports until\n",
      "C:\\Users\\jymas\\Anaconda3\\lib\\site-packages\\ipykernel_launcher.py:17: SettingWithCopyWarning: \n",
      "A value is trying to be set on a copy of a slice from a DataFrame\n",
      "\n",
      "See the caveats in the documentation: http://pandas.pydata.org/pandas-docs/stable/indexing.html#indexing-view-versus-copy\n"
     ]
    },
    {
     "data": {
      "image/png": "[encoded data removed]",
      "text/plain": [
       "<Figure size 432x288 with 1 Axes>"
      ]
     },
     "metadata": {
      "needs_background": "light"
     },
     "output_type": "display_data"
    }
   ],
   "source": [
    "forecast_set = clf.predict(X_lately) # applying the prediction\n",
    "\n",
    "df['forecast'] = np.nan\n",
    "\n",
    "last_date = df.iloc[-1].name\n",
    "\n",
    "last_unix = last_date.timestamp()\n",
    "\n",
    "one_day = 86400 # seconds in day\n",
    "\n",
    "next_unix = last_unix + one_day\n",
    "\n",
    "# just adding all the forecasted values into the forecast column, while giving nan values for other columns\n",
    "\n",
    "for i in forecast_set:\n",
    "    next_date = datetime.fromtimestamp(next_unix)\n",
    "    next_unix += one_day\n",
    "    df.loc[next_date] = [np.nan for _ in range(len(df.columns) - 1)] + [i]\n",
    "    \n",
    "(df['Adj_Close'].iloc[-200:]).plot()\n",
    "df['forecast'].plot()\n",
    "\n",
    "plt.legend(loc=4)\n",
    "plt.xlabel('Date')\n",
    "plt.ylabel('Price')\n",
    "plt.show()"
   ]
  },
  {
   "cell_type": "markdown",
   "metadata": {},
   "source": [
    "### Last 30 days "
   ]
  },
  {
   "cell_type": "code",
   "execution_count": 21,
   "metadata": {},
   "outputs": [
    {
     "data": {
      "image/png": "[encoded data removed]",
      "text/plain": [
       "<Figure size 432x288 with 1 Axes>"
      ]
     },
     "metadata": {
      "needs_background": "light"
     },
     "output_type": "display_data"
    }
   ],
   "source": [
    "(df['Adj_Close'].iloc[-60:]).plot()\n",
    "df['forecast'].plot()\n",
    "\n",
    "plt.legend(loc=4)\n",
    "plt.xlabel('Date')\n",
    "plt.ylabel('Price')\n",
    "plt.show()"
   ]
  },
  {
   "cell_type": "code",
   "execution_count": 60,
   "metadata": {},
   "outputs": [
    {
     "name": "stdout",
     "output_type": "stream",
     "text": [
      "29 days ahead with R^2 of 0.9899730097490252\n"
     ]
    }
   ],
   "source": [
    "# alternative - using Epsilon-Support Vector Regression (SVR)\n",
    "\n",
    "clf = svm.SVR(kernel='linear') # svm.SVR - support vector regression\n",
    "clf.fit(X_train, y_train)\n",
    "\n",
    "accuracy = clf.score(X_test, y_test)\n",
    "\n",
    "print(str(forecast_out) + ' days ahead with R^2 of ' + str(accuracy))"
   ]
  }
 ],
 "metadata": {
  "kernelspec": {
   "display_name": "Python 3",
   "language": "python",
   "name": "python3"
  },
  "language_info": {
   "codemirror_mode": {
    "name": "ipython",
    "version": 3
   },
   "file_extension": ".py",
   "mimetype": "text/x-python",
   "name": "python",
   "nbconvert_exporter": "python",
   "pygments_lexer": "ipython3",
   "version": "3.7.0"
  }
 },
 "nbformat": 4,
 "nbformat_minor": 2
}
